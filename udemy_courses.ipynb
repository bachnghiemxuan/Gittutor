{
 "cells": [
  {
   "cell_type": "code",
   "execution_count": 1,
   "source": [
    "import pandas as pd"
   ],
   "outputs": [],
   "metadata": {}
  },
  {
   "cell_type": "code",
   "execution_count": 2,
   "source": [
    "#LOAD DATA\r\n",
    "df = pd.read_csv('udemy_courses.csv',)\r\n"
   ],
   "outputs": [],
   "metadata": {}
  },
  {
   "cell_type": "code",
   "execution_count": 141,
   "source": [
    "#THAY NULL VALUE THÀNH VALUE HỢP LÝ: \r\n",
    "#   nếu price = 0 is_paid = false\r\n",
    "#   nếu price > 0 thì is_paid = true\r\n",
    "\r\n",
    "for x in df.index:\r\n",
    "    if df.loc[x, \"price\"] == 0:\r\n",
    "        df.loc[x,\"is_paid\"] = False\r\n",
    "    if df.loc[x, \"price\"] > 0:\r\n",
    "        df.loc[x,\"is_paid\"] = True\r\n"
   ],
   "outputs": [],
   "metadata": {}
  },
  {
   "cell_type": "code",
   "execution_count": 142,
   "source": [
    "#LƯU DATA\r\n",
    "df.to_csv(\"udemy_courses.csv\", index= False)"
   ],
   "outputs": [],
   "metadata": {}
  }
 ],
 "metadata": {
  "orig_nbformat": 4,
  "language_info": {
   "name": "python",
   "version": "3.9.6",
   "mimetype": "text/x-python",
   "codemirror_mode": {
    "name": "ipython",
    "version": 3
   },
   "pygments_lexer": "ipython3",
   "nbconvert_exporter": "python",
   "file_extension": ".py"
  },
  "kernelspec": {
   "name": "python3",
   "display_name": "Python 3.9.6 64-bit ('minimal_ds': conda)"
  },
  "interpreter": {
   "hash": "d0ba39e984f670afd56070f6e4b572fe1acc8497b29e6ed061f55196d5e84119"
  }
 },
 "nbformat": 4,
 "nbformat_minor": 2
}
